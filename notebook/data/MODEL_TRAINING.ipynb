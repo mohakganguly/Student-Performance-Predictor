{
  "cells": [
    {
      "cell_type": "markdown",
      "metadata": {
        "id": "iwkfy35lVfrK"
      },
      "source": [
        "# **MODEL TRAINING**"
      ]
    },
    {
      "cell_type": "code",
      "execution_count": 1,
      "metadata": {
        "colab": {
          "base_uri": "https://localhost:8080/"
        },
        "id": "ngEyzPGgV6og",
        "outputId": "10df80b2-6271-4e5a-9a07-0e605fafdcfc"
      },
      "outputs": [
        {
          "name": "stdout",
          "output_type": "stream",
          "text": [
            "Collecting catboost\n",
            "  Downloading catboost-1.2.8-cp38-cp38-win_amd64.whl.metadata (1.2 kB)\n",
            "Collecting graphviz (from catboost)\n",
            "  Downloading graphviz-0.20.3-py3-none-any.whl.metadata (12 kB)\n",
            "Requirement already satisfied: matplotlib in c:\\users\\mohak\\onedrive\\documents\\github\\mlproject\\venv\\lib\\site-packages (from catboost) (3.7.5)\n",
            "Requirement already satisfied: numpy<3.0,>=1.16.0 in c:\\users\\mohak\\onedrive\\documents\\github\\mlproject\\venv\\lib\\site-packages (from catboost) (1.24.4)\n",
            "Requirement already satisfied: pandas>=0.24 in c:\\users\\mohak\\onedrive\\documents\\github\\mlproject\\venv\\lib\\site-packages (from catboost) (2.0.3)\n",
            "Requirement already satisfied: scipy in c:\\users\\mohak\\onedrive\\documents\\github\\mlproject\\venv\\lib\\site-packages (from catboost) (1.10.1)\n",
            "Collecting plotly (from catboost)\n",
            "  Downloading plotly-6.1.2-py3-none-any.whl.metadata (6.9 kB)\n",
            "Requirement already satisfied: six in c:\\users\\mohak\\onedrive\\documents\\github\\mlproject\\venv\\lib\\site-packages (from catboost) (1.16.0)\n",
            "Requirement already satisfied: python-dateutil>=2.8.2 in c:\\users\\mohak\\onedrive\\documents\\github\\mlproject\\venv\\lib\\site-packages (from pandas>=0.24->catboost) (2.9.0)\n",
            "Requirement already satisfied: pytz>=2020.1 in c:\\users\\mohak\\onedrive\\documents\\github\\mlproject\\venv\\lib\\site-packages (from pandas>=0.24->catboost) (2025.2)\n",
            "Requirement already satisfied: tzdata>=2022.1 in c:\\users\\mohak\\onedrive\\documents\\github\\mlproject\\venv\\lib\\site-packages (from pandas>=0.24->catboost) (2025.2)\n",
            "Requirement already satisfied: contourpy>=1.0.1 in c:\\users\\mohak\\onedrive\\documents\\github\\mlproject\\venv\\lib\\site-packages (from matplotlib->catboost) (1.1.1)\n",
            "Requirement already satisfied: cycler>=0.10 in c:\\users\\mohak\\onedrive\\documents\\github\\mlproject\\venv\\lib\\site-packages (from matplotlib->catboost) (0.12.1)\n",
            "Requirement already satisfied: fonttools>=4.22.0 in c:\\users\\mohak\\onedrive\\documents\\github\\mlproject\\venv\\lib\\site-packages (from matplotlib->catboost) (4.57.0)\n",
            "Requirement already satisfied: kiwisolver>=1.0.1 in c:\\users\\mohak\\onedrive\\documents\\github\\mlproject\\venv\\lib\\site-packages (from matplotlib->catboost) (1.4.7)\n",
            "Requirement already satisfied: packaging>=20.0 in c:\\users\\mohak\\onedrive\\documents\\github\\mlproject\\venv\\lib\\site-packages (from matplotlib->catboost) (25.0)\n",
            "Requirement already satisfied: pillow>=6.2.0 in c:\\users\\mohak\\onedrive\\documents\\github\\mlproject\\venv\\lib\\site-packages (from matplotlib->catboost) (10.4.0)\n",
            "Requirement already satisfied: pyparsing>=2.3.1 in c:\\users\\mohak\\onedrive\\documents\\github\\mlproject\\venv\\lib\\site-packages (from matplotlib->catboost) (3.1.4)\n",
            "Requirement already satisfied: importlib-resources>=3.2.0 in c:\\users\\mohak\\onedrive\\documents\\github\\mlproject\\venv\\lib\\site-packages (from matplotlib->catboost) (6.4.5)\n",
            "Collecting narwhals>=1.15.1 (from plotly->catboost)\n",
            "  Downloading narwhals-1.41.0-py3-none-any.whl.metadata (11 kB)\n",
            "Requirement already satisfied: zipp>=3.1.0 in c:\\users\\mohak\\onedrive\\documents\\github\\mlproject\\venv\\lib\\site-packages (from importlib-resources>=3.2.0->matplotlib->catboost) (3.21.0)\n",
            "Downloading catboost-1.2.8-cp38-cp38-win_amd64.whl (102.5 MB)\n",
            "   ---------------------------------------- 0.0/102.5 MB ? eta -:--:--\n",
            "    --------------------------------------- 1.3/102.5 MB 6.7 MB/s eta 0:00:16\n",
            "    --------------------------------------- 2.4/102.5 MB 6.1 MB/s eta 0:00:17\n",
            "   - -------------------------------------- 4.2/102.5 MB 7.2 MB/s eta 0:00:14\n",
            "   -- ------------------------------------- 5.2/102.5 MB 6.6 MB/s eta 0:00:15\n",
            "   -- ------------------------------------- 6.8/102.5 MB 6.8 MB/s eta 0:00:15\n",
            "   --- ------------------------------------ 8.7/102.5 MB 7.1 MB/s eta 0:00:14\n",
            "   ---- ----------------------------------- 10.5/102.5 MB 7.4 MB/s eta 0:00:13\n",
            "   ---- ----------------------------------- 11.5/102.5 MB 7.1 MB/s eta 0:00:13\n",
            "   ----- ---------------------------------- 13.1/102.5 MB 7.0 MB/s eta 0:00:13\n",
            "   ----- ---------------------------------- 14.4/102.5 MB 7.1 MB/s eta 0:00:13\n",
            "   ------ --------------------------------- 16.0/102.5 MB 6.9 MB/s eta 0:00:13\n",
            "   ------ --------------------------------- 17.3/102.5 MB 6.9 MB/s eta 0:00:13\n",
            "   ------- -------------------------------- 18.4/102.5 MB 6.8 MB/s eta 0:00:13\n",
            "   ------- -------------------------------- 19.4/102.5 MB 6.7 MB/s eta 0:00:13\n",
            "   -------- ------------------------------- 21.0/102.5 MB 6.7 MB/s eta 0:00:13\n",
            "   -------- ------------------------------- 22.5/102.5 MB 6.7 MB/s eta 0:00:12\n",
            "   --------- ------------------------------ 23.3/102.5 MB 6.6 MB/s eta 0:00:13\n",
            "   --------- ------------------------------ 24.6/102.5 MB 6.5 MB/s eta 0:00:12\n",
            "   ---------- ----------------------------- 25.7/102.5 MB 6.5 MB/s eta 0:00:12\n",
            "   ---------- ----------------------------- 27.0/102.5 MB 6.4 MB/s eta 0:00:12\n",
            "   ----------- ---------------------------- 28.3/102.5 MB 6.5 MB/s eta 0:00:12\n",
            "   ----------- ---------------------------- 29.1/102.5 MB 6.3 MB/s eta 0:00:12\n",
            "   ----------- ---------------------------- 30.1/102.5 MB 6.3 MB/s eta 0:00:12\n",
            "   ------------ --------------------------- 31.5/102.5 MB 6.3 MB/s eta 0:00:12\n",
            "   ------------ --------------------------- 33.0/102.5 MB 6.3 MB/s eta 0:00:12\n",
            "   ------------- -------------------------- 33.8/102.5 MB 6.3 MB/s eta 0:00:11\n",
            "   ------------- -------------------------- 34.9/102.5 MB 6.2 MB/s eta 0:00:11\n",
            "   -------------- ------------------------- 36.4/102.5 MB 6.2 MB/s eta 0:00:11\n",
            "   -------------- ------------------------- 37.5/102.5 MB 6.2 MB/s eta 0:00:11\n",
            "   --------------- ------------------------ 39.3/102.5 MB 6.2 MB/s eta 0:00:11\n",
            "   --------------- ------------------------ 40.6/102.5 MB 6.2 MB/s eta 0:00:10\n",
            "   ---------------- ----------------------- 41.9/102.5 MB 6.3 MB/s eta 0:00:10\n",
            "   ---------------- ----------------------- 43.5/102.5 MB 6.3 MB/s eta 0:00:10\n",
            "   ----------------- ---------------------- 44.6/102.5 MB 6.3 MB/s eta 0:00:10\n",
            "   ----------------- ---------------------- 45.4/102.5 MB 6.2 MB/s eta 0:00:10\n",
            "   ----------------- ---------------------- 45.9/102.5 MB 6.1 MB/s eta 0:00:10\n",
            "   ------------------ --------------------- 46.9/102.5 MB 6.0 MB/s eta 0:00:10\n",
            "   ------------------- -------------------- 48.8/102.5 MB 6.1 MB/s eta 0:00:09\n",
            "   ------------------- -------------------- 50.3/102.5 MB 6.1 MB/s eta 0:00:09\n",
            "   -------------------- ------------------- 52.2/102.5 MB 6.2 MB/s eta 0:00:09\n",
            "   -------------------- ------------------- 52.4/102.5 MB 6.1 MB/s eta 0:00:09\n",
            "   -------------------- ------------------- 53.0/102.5 MB 6.0 MB/s eta 0:00:09\n",
            "   -------------------- ------------------- 53.7/102.5 MB 6.0 MB/s eta 0:00:09\n",
            "   --------------------- ------------------ 54.5/102.5 MB 5.9 MB/s eta 0:00:09\n",
            "   --------------------- ------------------ 55.3/102.5 MB 5.8 MB/s eta 0:00:09\n",
            "   --------------------- ------------------ 55.8/102.5 MB 5.8 MB/s eta 0:00:09\n",
            "   --------------------- ------------------ 56.1/102.5 MB 5.7 MB/s eta 0:00:09\n",
            "   --------------------- ------------------ 56.4/102.5 MB 5.7 MB/s eta 0:00:09\n",
            "   ---------------------- ----------------- 56.9/102.5 MB 5.5 MB/s eta 0:00:09\n",
            "   ---------------------- ----------------- 57.9/102.5 MB 5.5 MB/s eta 0:00:09\n",
            "   ----------------------- ---------------- 59.2/102.5 MB 5.5 MB/s eta 0:00:08\n",
            "   ----------------------- ---------------- 61.3/102.5 MB 5.6 MB/s eta 0:00:08\n",
            "   ------------------------ --------------- 62.7/102.5 MB 5.6 MB/s eta 0:00:08\n",
            "   ------------------------ --------------- 63.7/102.5 MB 5.6 MB/s eta 0:00:07\n",
            "   ------------------------- -------------- 65.0/102.5 MB 5.6 MB/s eta 0:00:07\n",
            "   -------------------------- ------------- 67.1/102.5 MB 5.7 MB/s eta 0:00:07\n",
            "   -------------------------- ------------- 68.7/102.5 MB 5.7 MB/s eta 0:00:06\n",
            "   --------------------------- ------------ 70.8/102.5 MB 5.8 MB/s eta 0:00:06\n",
            "   ---------------------------- ----------- 72.4/102.5 MB 5.8 MB/s eta 0:00:06\n",
            "   ---------------------------- ----------- 73.7/102.5 MB 5.8 MB/s eta 0:00:05\n",
            "   ----------------------------- ---------- 75.0/102.5 MB 5.8 MB/s eta 0:00:05\n",
            "   ----------------------------- ---------- 76.0/102.5 MB 5.8 MB/s eta 0:00:05\n",
            "   ----------------------------- ---------- 76.8/102.5 MB 5.8 MB/s eta 0:00:05\n",
            "   ------------------------------ --------- 77.1/102.5 MB 5.7 MB/s eta 0:00:05\n",
            "   ------------------------------ --------- 78.6/102.5 MB 5.7 MB/s eta 0:00:05\n",
            "   ------------------------------- -------- 79.7/102.5 MB 5.7 MB/s eta 0:00:04\n",
            "   ------------------------------- -------- 80.2/102.5 MB 5.7 MB/s eta 0:00:04\n",
            "   ------------------------------- -------- 81.3/102.5 MB 5.6 MB/s eta 0:00:04\n",
            "   ------------------------------- -------- 81.3/102.5 MB 5.6 MB/s eta 0:00:04\n",
            "   -------------------------------- ------- 82.1/102.5 MB 5.5 MB/s eta 0:00:04\n",
            "   -------------------------------- ------- 83.1/102.5 MB 5.5 MB/s eta 0:00:04\n",
            "   --------------------------------- ------ 85.2/102.5 MB 5.6 MB/s eta 0:00:04\n",
            "   --------------------------------- ------ 85.7/102.5 MB 5.6 MB/s eta 0:00:04\n",
            "   --------------------------------- ------ 87.0/102.5 MB 5.6 MB/s eta 0:00:03\n",
            "   ---------------------------------- ----- 88.6/102.5 MB 5.6 MB/s eta 0:00:03\n",
            "   ----------------------------------- ---- 90.4/102.5 MB 5.6 MB/s eta 0:00:03\n",
            "   ------------------------------------ --- 92.3/102.5 MB 5.7 MB/s eta 0:00:02\n",
            "   ------------------------------------ --- 93.8/102.5 MB 5.7 MB/s eta 0:00:02\n",
            "   ------------------------------------- -- 95.9/102.5 MB 5.7 MB/s eta 0:00:02\n",
            "   -------------------------------------- - 97.8/102.5 MB 5.8 MB/s eta 0:00:01\n",
            "   -------------------------------------- - 99.1/102.5 MB 5.8 MB/s eta 0:00:01\n",
            "   ---------------------------------------  100.7/102.5 MB 5.8 MB/s eta 0:00:01\n",
            "   ---------------------------------------  101.4/102.5 MB 5.8 MB/s eta 0:00:01\n",
            "   ---------------------------------------  102.2/102.5 MB 5.8 MB/s eta 0:00:01\n",
            "   ---------------------------------------  102.2/102.5 MB 5.8 MB/s eta 0:00:01\n",
            "   ---------------------------------------- 102.5/102.5 MB 5.7 MB/s eta 0:00:00\n",
            "Downloading graphviz-0.20.3-py3-none-any.whl (47 kB)\n",
            "Downloading plotly-6.1.2-py3-none-any.whl (16.3 MB)\n",
            "   ---------------------------------------- 0.0/16.3 MB ? eta -:--:--\n",
            "   --- ------------------------------------ 1.3/16.3 MB 6.7 MB/s eta 0:00:03\n",
            "   ----- ---------------------------------- 2.1/16.3 MB 4.9 MB/s eta 0:00:03\n",
            "   -------- ------------------------------- 3.4/16.3 MB 5.4 MB/s eta 0:00:03\n",
            "   ------------ --------------------------- 5.0/16.3 MB 5.8 MB/s eta 0:00:02\n",
            "   ---------------- ----------------------- 6.8/16.3 MB 6.5 MB/s eta 0:00:02\n",
            "   --------------------- ------------------ 8.7/16.3 MB 7.0 MB/s eta 0:00:02\n",
            "   ------------------------- -------------- 10.2/16.3 MB 7.0 MB/s eta 0:00:01\n",
            "   ----------------------------- ---------- 11.8/16.3 MB 7.0 MB/s eta 0:00:01\n",
            "   --------------------------------- ------ 13.6/16.3 MB 7.2 MB/s eta 0:00:01\n",
            "   -------------------------------------- - 15.5/16.3 MB 7.3 MB/s eta 0:00:01\n",
            "   ---------------------------------------- 16.3/16.3 MB 7.1 MB/s eta 0:00:00\n",
            "Downloading narwhals-1.41.0-py3-none-any.whl (357 kB)\n",
            "Installing collected packages: narwhals, graphviz, plotly, catboost\n",
            "Successfully installed catboost-1.2.8 graphviz-0.20.3 narwhals-1.41.0 plotly-6.1.2\n"
          ]
        }
      ],
      "source": [
        "!pip install catboost"
      ]
    },
    {
      "cell_type": "code",
      "execution_count": 3,
      "metadata": {
        "id": "HuejerTnT5ip"
      },
      "outputs": [],
      "source": [
        "# Basic Import\n",
        "import numpy as np\n",
        "import pandas as pd\n",
        "import matplotlib.pyplot as plt\n",
        "import seaborn as sns\n",
        "# Modelling\n",
        "from sklearn.metrics import mean_squared_error, r2_score\n",
        "from sklearn.neighbors import KNeighborsRegressor\n",
        "from sklearn.tree import DecisionTreeRegressor\n",
        "from sklearn.ensemble import RandomForestRegressor,AdaBoostRegressor\n",
        "from sklearn.svm import SVR\n",
        "from sklearn.linear_model import LinearRegression, Ridge,Lasso\n",
        "from sklearn.metrics import r2_score, mean_absolute_error, mean_squared_error\n",
        "from sklearn.model_selection import RandomizedSearchCV\n",
        "from catboost import CatBoostRegressor\n",
        "from xgboost import XGBRegressor\n",
        "import warnings"
      ]
    },
    {
      "cell_type": "code",
      "execution_count": 4,
      "metadata": {
        "id": "q70vjww2Vxjb"
      },
      "outputs": [],
      "source": [
        "df=pd.read_csv(\"StudentsPerformance.csv\")"
      ]
    },
    {
      "cell_type": "code",
      "execution_count": 5,
      "metadata": {
        "colab": {
          "base_uri": "https://localhost:8080/",
          "height": 206
        },
        "id": "gwPdk_RbWgJs",
        "outputId": "e96f678f-7a8a-4cd1-bb47-06548ba34de7"
      },
      "outputs": [
        {
          "data": {
            "text/html": [
              "<div>\n",
              "<style scoped>\n",
              "    .dataframe tbody tr th:only-of-type {\n",
              "        vertical-align: middle;\n",
              "    }\n",
              "\n",
              "    .dataframe tbody tr th {\n",
              "        vertical-align: top;\n",
              "    }\n",
              "\n",
              "    .dataframe thead th {\n",
              "        text-align: right;\n",
              "    }\n",
              "</style>\n",
              "<table border=\"1\" class=\"dataframe\">\n",
              "  <thead>\n",
              "    <tr style=\"text-align: right;\">\n",
              "      <th></th>\n",
              "      <th>gender</th>\n",
              "      <th>race/ethnicity</th>\n",
              "      <th>parental level of education</th>\n",
              "      <th>lunch</th>\n",
              "      <th>test preparation course</th>\n",
              "      <th>math score</th>\n",
              "      <th>reading score</th>\n",
              "      <th>writing score</th>\n",
              "    </tr>\n",
              "  </thead>\n",
              "  <tbody>\n",
              "    <tr>\n",
              "      <th>0</th>\n",
              "      <td>female</td>\n",
              "      <td>group B</td>\n",
              "      <td>bachelor's degree</td>\n",
              "      <td>standard</td>\n",
              "      <td>none</td>\n",
              "      <td>72</td>\n",
              "      <td>72</td>\n",
              "      <td>74</td>\n",
              "    </tr>\n",
              "    <tr>\n",
              "      <th>1</th>\n",
              "      <td>female</td>\n",
              "      <td>group C</td>\n",
              "      <td>some college</td>\n",
              "      <td>standard</td>\n",
              "      <td>completed</td>\n",
              "      <td>69</td>\n",
              "      <td>90</td>\n",
              "      <td>88</td>\n",
              "    </tr>\n",
              "    <tr>\n",
              "      <th>2</th>\n",
              "      <td>female</td>\n",
              "      <td>group B</td>\n",
              "      <td>master's degree</td>\n",
              "      <td>standard</td>\n",
              "      <td>none</td>\n",
              "      <td>90</td>\n",
              "      <td>95</td>\n",
              "      <td>93</td>\n",
              "    </tr>\n",
              "    <tr>\n",
              "      <th>3</th>\n",
              "      <td>male</td>\n",
              "      <td>group A</td>\n",
              "      <td>associate's degree</td>\n",
              "      <td>free/reduced</td>\n",
              "      <td>none</td>\n",
              "      <td>47</td>\n",
              "      <td>57</td>\n",
              "      <td>44</td>\n",
              "    </tr>\n",
              "    <tr>\n",
              "      <th>4</th>\n",
              "      <td>male</td>\n",
              "      <td>group C</td>\n",
              "      <td>some college</td>\n",
              "      <td>standard</td>\n",
              "      <td>none</td>\n",
              "      <td>76</td>\n",
              "      <td>78</td>\n",
              "      <td>75</td>\n",
              "    </tr>\n",
              "  </tbody>\n",
              "</table>\n",
              "</div>"
            ],
            "text/plain": [
              "   gender race/ethnicity parental level of education         lunch  \\\n",
              "0  female        group B           bachelor's degree      standard   \n",
              "1  female        group C                some college      standard   \n",
              "2  female        group B             master's degree      standard   \n",
              "3    male        group A          associate's degree  free/reduced   \n",
              "4    male        group C                some college      standard   \n",
              "\n",
              "  test preparation course  math score  reading score  writing score  \n",
              "0                    none          72             72             74  \n",
              "1               completed          69             90             88  \n",
              "2                    none          90             95             93  \n",
              "3                    none          47             57             44  \n",
              "4                    none          76             78             75  "
            ]
          },
          "execution_count": 5,
          "metadata": {},
          "output_type": "execute_result"
        }
      ],
      "source": [
        "df.head()"
      ]
    },
    {
      "cell_type": "code",
      "execution_count": 6,
      "metadata": {
        "colab": {
          "base_uri": "https://localhost:8080/",
          "height": 423
        },
        "id": "OR1poamBXh3D",
        "outputId": "abf20038-0f47-433a-e05d-20ce052f3e22"
      },
      "outputs": [
        {
          "data": {
            "text/html": [
              "<div>\n",
              "<style scoped>\n",
              "    .dataframe tbody tr th:only-of-type {\n",
              "        vertical-align: middle;\n",
              "    }\n",
              "\n",
              "    .dataframe tbody tr th {\n",
              "        vertical-align: top;\n",
              "    }\n",
              "\n",
              "    .dataframe thead th {\n",
              "        text-align: right;\n",
              "    }\n",
              "</style>\n",
              "<table border=\"1\" class=\"dataframe\">\n",
              "  <thead>\n",
              "    <tr style=\"text-align: right;\">\n",
              "      <th></th>\n",
              "      <th>gender</th>\n",
              "      <th>race/ethnicity</th>\n",
              "      <th>parental level of education</th>\n",
              "      <th>lunch</th>\n",
              "      <th>test preparation course</th>\n",
              "      <th>reading score</th>\n",
              "      <th>writing score</th>\n",
              "    </tr>\n",
              "  </thead>\n",
              "  <tbody>\n",
              "    <tr>\n",
              "      <th>0</th>\n",
              "      <td>female</td>\n",
              "      <td>group B</td>\n",
              "      <td>bachelor's degree</td>\n",
              "      <td>standard</td>\n",
              "      <td>none</td>\n",
              "      <td>72</td>\n",
              "      <td>74</td>\n",
              "    </tr>\n",
              "    <tr>\n",
              "      <th>1</th>\n",
              "      <td>female</td>\n",
              "      <td>group C</td>\n",
              "      <td>some college</td>\n",
              "      <td>standard</td>\n",
              "      <td>completed</td>\n",
              "      <td>90</td>\n",
              "      <td>88</td>\n",
              "    </tr>\n",
              "    <tr>\n",
              "      <th>2</th>\n",
              "      <td>female</td>\n",
              "      <td>group B</td>\n",
              "      <td>master's degree</td>\n",
              "      <td>standard</td>\n",
              "      <td>none</td>\n",
              "      <td>95</td>\n",
              "      <td>93</td>\n",
              "    </tr>\n",
              "    <tr>\n",
              "      <th>3</th>\n",
              "      <td>male</td>\n",
              "      <td>group A</td>\n",
              "      <td>associate's degree</td>\n",
              "      <td>free/reduced</td>\n",
              "      <td>none</td>\n",
              "      <td>57</td>\n",
              "      <td>44</td>\n",
              "    </tr>\n",
              "    <tr>\n",
              "      <th>4</th>\n",
              "      <td>male</td>\n",
              "      <td>group C</td>\n",
              "      <td>some college</td>\n",
              "      <td>standard</td>\n",
              "      <td>none</td>\n",
              "      <td>78</td>\n",
              "      <td>75</td>\n",
              "    </tr>\n",
              "    <tr>\n",
              "      <th>...</th>\n",
              "      <td>...</td>\n",
              "      <td>...</td>\n",
              "      <td>...</td>\n",
              "      <td>...</td>\n",
              "      <td>...</td>\n",
              "      <td>...</td>\n",
              "      <td>...</td>\n",
              "    </tr>\n",
              "    <tr>\n",
              "      <th>995</th>\n",
              "      <td>female</td>\n",
              "      <td>group E</td>\n",
              "      <td>master's degree</td>\n",
              "      <td>standard</td>\n",
              "      <td>completed</td>\n",
              "      <td>99</td>\n",
              "      <td>95</td>\n",
              "    </tr>\n",
              "    <tr>\n",
              "      <th>996</th>\n",
              "      <td>male</td>\n",
              "      <td>group C</td>\n",
              "      <td>high school</td>\n",
              "      <td>free/reduced</td>\n",
              "      <td>none</td>\n",
              "      <td>55</td>\n",
              "      <td>55</td>\n",
              "    </tr>\n",
              "    <tr>\n",
              "      <th>997</th>\n",
              "      <td>female</td>\n",
              "      <td>group C</td>\n",
              "      <td>high school</td>\n",
              "      <td>free/reduced</td>\n",
              "      <td>completed</td>\n",
              "      <td>71</td>\n",
              "      <td>65</td>\n",
              "    </tr>\n",
              "    <tr>\n",
              "      <th>998</th>\n",
              "      <td>female</td>\n",
              "      <td>group D</td>\n",
              "      <td>some college</td>\n",
              "      <td>standard</td>\n",
              "      <td>completed</td>\n",
              "      <td>78</td>\n",
              "      <td>77</td>\n",
              "    </tr>\n",
              "    <tr>\n",
              "      <th>999</th>\n",
              "      <td>female</td>\n",
              "      <td>group D</td>\n",
              "      <td>some college</td>\n",
              "      <td>free/reduced</td>\n",
              "      <td>none</td>\n",
              "      <td>86</td>\n",
              "      <td>86</td>\n",
              "    </tr>\n",
              "  </tbody>\n",
              "</table>\n",
              "<p>1000 rows × 7 columns</p>\n",
              "</div>"
            ],
            "text/plain": [
              "     gender race/ethnicity parental level of education         lunch  \\\n",
              "0    female        group B           bachelor's degree      standard   \n",
              "1    female        group C                some college      standard   \n",
              "2    female        group B             master's degree      standard   \n",
              "3      male        group A          associate's degree  free/reduced   \n",
              "4      male        group C                some college      standard   \n",
              "..      ...            ...                         ...           ...   \n",
              "995  female        group E             master's degree      standard   \n",
              "996    male        group C                 high school  free/reduced   \n",
              "997  female        group C                 high school  free/reduced   \n",
              "998  female        group D                some college      standard   \n",
              "999  female        group D                some college  free/reduced   \n",
              "\n",
              "    test preparation course  reading score  writing score  \n",
              "0                      none             72             74  \n",
              "1                 completed             90             88  \n",
              "2                      none             95             93  \n",
              "3                      none             57             44  \n",
              "4                      none             78             75  \n",
              "..                      ...            ...            ...  \n",
              "995               completed             99             95  \n",
              "996                    none             55             55  \n",
              "997               completed             71             65  \n",
              "998               completed             78             77  \n",
              "999                    none             86             86  \n",
              "\n",
              "[1000 rows x 7 columns]"
            ]
          },
          "execution_count": 6,
          "metadata": {},
          "output_type": "execute_result"
        }
      ],
      "source": [
        "x=df.drop(['math score'], axis=1)\n",
        "x\n"
      ]
    },
    {
      "cell_type": "code",
      "execution_count": 7,
      "metadata": {
        "id": "fNkl7CO-Yhvl"
      },
      "outputs": [],
      "source": [
        "y=df['math score']"
      ]
    },
    {
      "cell_type": "code",
      "execution_count": 8,
      "metadata": {
        "id": "Dj17PEt5ZGEq"
      },
      "outputs": [],
      "source": [
        "num_features=x.select_dtypes(exclude=object).columns\n",
        "cat_features=x.select_dtypes(include=object).columns"
      ]
    },
    {
      "cell_type": "code",
      "execution_count": 9,
      "metadata": {
        "id": "EO8HFFqzZaM9"
      },
      "outputs": [],
      "source": [
        "from sklearn.preprocessing import OneHotEncoder, StandardScaler\n",
        "from sklearn.compose import ColumnTransformer\n"
      ]
    },
    {
      "cell_type": "code",
      "execution_count": 10,
      "metadata": {
        "id": "ZgixFEq4ZgbJ"
      },
      "outputs": [],
      "source": [
        "num_transformer=StandardScaler()\n",
        "cat_transformer=OneHotEncoder()\n",
        "\n",
        "preprocessor=ColumnTransformer(\n",
        "    [\n",
        "        (\"OneHotEncoder\",cat_transformer ,cat_features),\n",
        "        (\"StandardScaler\",num_transformer,num_features)\n",
        "    ]\n",
        "\n",
        ")\n"
      ]
    },
    {
      "cell_type": "code",
      "execution_count": 11,
      "metadata": {
        "id": "KJIJMCxIaiVQ"
      },
      "outputs": [],
      "source": [
        "X=preprocessor.fit_transform(x)"
      ]
    },
    {
      "cell_type": "code",
      "execution_count": 12,
      "metadata": {
        "colab": {
          "base_uri": "https://localhost:8080/"
        },
        "id": "NKH6QTSnbS1e",
        "outputId": "aae30d23-e71f-4e17-fe69-001ae9c1dd30"
      },
      "outputs": [
        {
          "data": {
            "text/plain": [
              "(1000, 19)"
            ]
          },
          "execution_count": 12,
          "metadata": {},
          "output_type": "execute_result"
        }
      ],
      "source": [
        "X.shape"
      ]
    },
    {
      "cell_type": "code",
      "execution_count": 13,
      "metadata": {
        "colab": {
          "base_uri": "https://localhost:8080/"
        },
        "id": "_NKZ-C6-bVsK",
        "outputId": "28bb53f7-c31f-42ac-bb53-d34458188294"
      },
      "outputs": [
        {
          "data": {
            "text/plain": [
              "((800, 19), (200, 19))"
            ]
          },
          "execution_count": 13,
          "metadata": {},
          "output_type": "execute_result"
        }
      ],
      "source": [
        "from sklearn.model_selection import train_test_split\n",
        "\n",
        "x_train,x_test,y_train,y_test=train_test_split(X,y,test_size=0.2,random_state=42)\n",
        "x_train.shape,x_test.shape"
      ]
    },
    {
      "cell_type": "markdown",
      "metadata": {
        "id": "O-yI19aSdsnK"
      },
      "source": [
        "# **EVALUATE MODEL**"
      ]
    },
    {
      "cell_type": "code",
      "execution_count": 14,
      "metadata": {
        "id": "ut7fnCH9be9-"
      },
      "outputs": [],
      "source": [
        "def evaluate_model(true,predicted):\n",
        "  mae=mean_absolute_error(true,predicted)\n",
        "  mse=mean_squared_error(true,predicted)\n",
        "  rmse=np.sqrt(mse)\n",
        "  r2=r2_score(true,predicted)\n",
        "  return mae,rmse,r2"
      ]
    },
    {
      "cell_type": "code",
      "execution_count": 15,
      "metadata": {
        "colab": {
          "base_uri": "https://localhost:8080/"
        },
        "id": "_AJoZ47PeUeF",
        "outputId": "b8c292ab-6125-49bc-ca40-edea201ff7d0"
      },
      "outputs": [
        {
          "name": "stdout",
          "output_type": "stream",
          "text": [
            "Linear Regression\n",
            "Model performance for Training set\n",
            "- Root Mean Squared Error: 5.3243\n",
            "- Mean Absolute Error: 4.2671\n",
            "- R2 Score: 0.8743\n",
            "----------------------------------\n",
            "Model performance for Test set\n",
            "- Root Mean Squared Error: 5.3960\n",
            "- Mean Absolute Error: 4.2158\n",
            "- R2 Score: 0.8803\n",
            "===================================\n",
            "\n",
            "\n",
            "Lasso\n",
            "Model performance for Training set\n",
            "- Root Mean Squared Error: 6.5938\n",
            "- Mean Absolute Error: 5.2063\n",
            "- R2 Score: 0.8071\n",
            "----------------------------------\n",
            "Model performance for Test set\n",
            "- Root Mean Squared Error: 6.5197\n",
            "- Mean Absolute Error: 5.1579\n",
            "- R2 Score: 0.8253\n",
            "===================================\n",
            "\n",
            "\n",
            "Ridge\n",
            "Model performance for Training set\n",
            "- Root Mean Squared Error: 5.3233\n",
            "- Mean Absolute Error: 4.2650\n",
            "- R2 Score: 0.8743\n",
            "----------------------------------\n",
            "Model performance for Test set\n",
            "- Root Mean Squared Error: 5.3904\n",
            "- Mean Absolute Error: 4.2111\n",
            "- R2 Score: 0.8806\n",
            "===================================\n",
            "\n",
            "\n",
            "K-Neighbors Regressor\n",
            "Model performance for Training set\n",
            "- Root Mean Squared Error: 5.7077\n",
            "- Mean Absolute Error: 4.5167\n",
            "- R2 Score: 0.8555\n",
            "----------------------------------\n",
            "Model performance for Test set\n",
            "- Root Mean Squared Error: 7.2530\n",
            "- Mean Absolute Error: 5.6210\n",
            "- R2 Score: 0.7838\n",
            "===================================\n",
            "\n",
            "\n",
            "Decision Tree\n",
            "Model performance for Training set\n",
            "- Root Mean Squared Error: 0.2795\n",
            "- Mean Absolute Error: 0.0187\n",
            "- R2 Score: 0.9997\n",
            "----------------------------------\n",
            "Model performance for Test set\n",
            "- Root Mean Squared Error: 7.6214\n",
            "- Mean Absolute Error: 6.0350\n",
            "- R2 Score: 0.7613\n",
            "===================================\n",
            "\n",
            "\n",
            "Random Forest Regressor\n",
            "Model performance for Training set\n",
            "- Root Mean Squared Error: 2.3135\n",
            "- Mean Absolute Error: 1.8330\n",
            "- R2 Score: 0.9763\n",
            "----------------------------------\n",
            "Model performance for Test set\n",
            "- Root Mean Squared Error: 6.0627\n",
            "- Mean Absolute Error: 4.6785\n",
            "- R2 Score: 0.8490\n",
            "===================================\n",
            "\n",
            "\n",
            "XGBRegressor\n",
            "Model performance for Training set\n",
            "- Root Mean Squared Error: 1.0073\n",
            "- Mean Absolute Error: 0.6875\n",
            "- R2 Score: 0.9955\n",
            "----------------------------------\n",
            "Model performance for Test set\n",
            "- Root Mean Squared Error: 6.4733\n",
            "- Mean Absolute Error: 5.0577\n",
            "- R2 Score: 0.8278\n",
            "===================================\n",
            "\n",
            "\n",
            "CatBoosting Regressor\n",
            "Model performance for Training set\n",
            "- Root Mean Squared Error: 3.0427\n",
            "- Mean Absolute Error: 2.4054\n",
            "- R2 Score: 0.9589\n",
            "----------------------------------\n",
            "Model performance for Test set\n",
            "- Root Mean Squared Error: 6.0086\n",
            "- Mean Absolute Error: 4.6125\n",
            "- R2 Score: 0.8516\n",
            "===================================\n",
            "\n",
            "\n",
            "AdaBoost Regressor\n",
            "Model performance for Training set\n",
            "- Root Mean Squared Error: 5.8200\n",
            "- Mean Absolute Error: 4.7800\n",
            "- R2 Score: 0.8498\n",
            "----------------------------------\n",
            "Model performance for Test set\n",
            "- Root Mean Squared Error: 6.1467\n",
            "- Mean Absolute Error: 4.8456\n",
            "- R2 Score: 0.8447\n",
            "===================================\n",
            "\n",
            "\n"
          ]
        }
      ],
      "source": [
        "models = {\n",
        "    \"Linear Regression\": LinearRegression(),\n",
        "    \"Lasso\": Lasso(),\n",
        "    \"Ridge\": Ridge(),\n",
        "    \"K-Neighbors Regressor\": KNeighborsRegressor(),\n",
        "    \"Decision Tree\": DecisionTreeRegressor(),\n",
        "    \"Random Forest Regressor\": RandomForestRegressor(),\n",
        "    \"XGBRegressor\": XGBRegressor(),\n",
        "    \"CatBoosting Regressor\": CatBoostRegressor(verbose=False),\n",
        "    \"AdaBoost Regressor\": AdaBoostRegressor()\n",
        "}\n",
        "model_list=[]\n",
        "r2_list=[]\n",
        "\n",
        "for name, model in models.items():\n",
        "    model.fit(x_train, y_train)\n",
        "\n",
        "    y_train_pred=model.predict(x_train)\n",
        "    y_test_pred=model.predict(x_test)\n",
        "\n",
        "    model_train_mae,model_train_rmse,model_train_r2=evaluate_model(y_train,y_train_pred)\n",
        "    model_test_mae,model_test_rmse,model_test_r2=evaluate_model(y_test,y_test_pred)\n",
        "\n",
        "    print(name)\n",
        "    model_list.append(name)\n",
        "    print('Model performance for Training set')\n",
        "    print(\"- Root Mean Squared Error: {:.4f}\".format(model_train_rmse))\n",
        "    print(\"- Mean Absolute Error: {:.4f}\".format(model_train_mae))\n",
        "    print(\"- R2 Score: {:.4f}\".format(model_train_r2))\n",
        "\n",
        "    print('----------------------------------')\n",
        "\n",
        "    print('Model performance for Test set')\n",
        "    print(\"- Root Mean Squared Error: {:.4f}\".format(model_test_rmse))\n",
        "    print(\"- Mean Absolute Error: {:.4f}\".format(model_test_mae))\n",
        "    print(\"- R2 Score: {:.4f}\".format(model_test_r2))\n",
        "    r2_list.append((name,model_test_r2))\n",
        "\n",
        "    print('='*35)\n",
        "    print('\\n')\n"
      ]
    },
    {
      "cell_type": "code",
      "execution_count": 16,
      "metadata": {
        "colab": {
          "base_uri": "https://localhost:8080/"
        },
        "id": "Y1m-xPJgh_li",
        "outputId": "69801dd6-5676-4381-ef4c-9b4e09eb05c6"
      },
      "outputs": [
        {
          "name": "stdout",
          "output_type": "stream",
          "text": [
            "Linear Regression: R² Score = 0.8803\n",
            "Lasso: R² Score = 0.8253\n",
            "Ridge: R² Score = 0.8806\n",
            "K-Neighbors Regressor: R² Score = 0.7838\n",
            "Decision Tree: R² Score = 0.7613\n",
            "Random Forest Regressor: R² Score = 0.8490\n",
            "XGBRegressor: R² Score = 0.8278\n",
            "CatBoosting Regressor: R² Score = 0.8516\n",
            "AdaBoost Regressor: R² Score = 0.8447\n"
          ]
        }
      ],
      "source": [
        "for model_name, r2 in r2_list:\n",
        "    print(f\"{model_name}: R² Score = {r2:.4f}\")"
      ]
    },
    {
      "cell_type": "code",
      "execution_count": 17,
      "metadata": {
        "colab": {
          "base_uri": "https://localhost:8080/",
          "height": 449
        },
        "id": "zaVNrlGckNY-",
        "outputId": "72012b61-4fef-4f79-eb93-80f479aa91a6"
      },
      "outputs": [
        {
          "data": {
            "image/png": "[encoded data removed]",
            "text/plain": [
              "<Figure size 640x480 with 1 Axes>"
            ]
          },
          "metadata": {},
          "output_type": "display_data"
        }
      ],
      "source": [
        "plt.scatter(y_test,y_test_pred);\n",
        "plt.xlabel('Actual');\n",
        "plt.ylabel('Predicted');"
      ]
    },
    {
      "cell_type": "code",
      "execution_count": 18,
      "metadata": {
        "colab": {
          "base_uri": "https://localhost:8080/",
          "height": 449
        },
        "id": "L_oc7LSRkT_l",
        "outputId": "b33e410a-b51b-4351-d81d-ba766dc19b60"
      },
      "outputs": [
        {
          "data": {
            "image/png": "[encoded data removed]",
            "text/plain": [
              "<Figure size 640x480 with 1 Axes>"
            ]
          },
          "metadata": {},
          "output_type": "display_data"
        }
      ],
      "source": [
        "sns.regplot(x=y_test,y=y_test_pred,ci=None,color ='red');"
      ]
    },
    {
      "cell_type": "code",
      "execution_count": 19,
      "metadata": {
        "colab": {
          "base_uri": "https://localhost:8080/",
          "height": 423
        },
        "id": "F9k__WJwkq1C",
        "outputId": "8642824b-cc90-4eb8-e7e2-74742d7bd1bc"
      },
      "outputs": [
        {
          "data": {
            "text/html": [
              "<div>\n",
              "<style scoped>\n",
              "    .dataframe tbody tr th:only-of-type {\n",
              "        vertical-align: middle;\n",
              "    }\n",
              "\n",
              "    .dataframe tbody tr th {\n",
              "        vertical-align: top;\n",
              "    }\n",
              "\n",
              "    .dataframe thead th {\n",
              "        text-align: right;\n",
              "    }\n",
              "</style>\n",
              "<table border=\"1\" class=\"dataframe\">\n",
              "  <thead>\n",
              "    <tr style=\"text-align: right;\">\n",
              "      <th></th>\n",
              "      <th>Actual Value</th>\n",
              "      <th>Predicted Value</th>\n",
              "      <th>Difference</th>\n",
              "    </tr>\n",
              "  </thead>\n",
              "  <tbody>\n",
              "    <tr>\n",
              "      <th>521</th>\n",
              "      <td>91</td>\n",
              "      <td>77.491525</td>\n",
              "      <td>13.508475</td>\n",
              "    </tr>\n",
              "    <tr>\n",
              "      <th>737</th>\n",
              "      <td>53</td>\n",
              "      <td>58.472222</td>\n",
              "      <td>-5.472222</td>\n",
              "    </tr>\n",
              "    <tr>\n",
              "      <th>740</th>\n",
              "      <td>80</td>\n",
              "      <td>76.558559</td>\n",
              "      <td>3.441441</td>\n",
              "    </tr>\n",
              "    <tr>\n",
              "      <th>660</th>\n",
              "      <td>74</td>\n",
              "      <td>76.593220</td>\n",
              "      <td>-2.593220</td>\n",
              "    </tr>\n",
              "    <tr>\n",
              "      <th>411</th>\n",
              "      <td>84</td>\n",
              "      <td>83.212389</td>\n",
              "      <td>0.787611</td>\n",
              "    </tr>\n",
              "    <tr>\n",
              "      <th>...</th>\n",
              "      <td>...</td>\n",
              "      <td>...</td>\n",
              "      <td>...</td>\n",
              "    </tr>\n",
              "    <tr>\n",
              "      <th>408</th>\n",
              "      <td>52</td>\n",
              "      <td>47.855072</td>\n",
              "      <td>4.144928</td>\n",
              "    </tr>\n",
              "    <tr>\n",
              "      <th>332</th>\n",
              "      <td>62</td>\n",
              "      <td>56.129496</td>\n",
              "      <td>5.870504</td>\n",
              "    </tr>\n",
              "    <tr>\n",
              "      <th>208</th>\n",
              "      <td>74</td>\n",
              "      <td>68.108108</td>\n",
              "      <td>5.891892</td>\n",
              "    </tr>\n",
              "    <tr>\n",
              "      <th>613</th>\n",
              "      <td>65</td>\n",
              "      <td>68.912000</td>\n",
              "      <td>-3.912000</td>\n",
              "    </tr>\n",
              "    <tr>\n",
              "      <th>78</th>\n",
              "      <td>61</td>\n",
              "      <td>68.108108</td>\n",
              "      <td>-7.108108</td>\n",
              "    </tr>\n",
              "  </tbody>\n",
              "</table>\n",
              "<p>200 rows × 3 columns</p>\n",
              "</div>"
            ],
            "text/plain": [
              "     Actual Value  Predicted Value  Difference\n",
              "521            91        77.491525   13.508475\n",
              "737            53        58.472222   -5.472222\n",
              "740            80        76.558559    3.441441\n",
              "660            74        76.593220   -2.593220\n",
              "411            84        83.212389    0.787611\n",
              "..            ...              ...         ...\n",
              "408            52        47.855072    4.144928\n",
              "332            62        56.129496    5.870504\n",
              "208            74        68.108108    5.891892\n",
              "613            65        68.912000   -3.912000\n",
              "78             61        68.108108   -7.108108\n",
              "\n",
              "[200 rows x 3 columns]"
            ]
          },
          "execution_count": 19,
          "metadata": {},
          "output_type": "execute_result"
        }
      ],
      "source": [
        "pred_df=pd.DataFrame({'Actual Value':y_test,'Predicted Value':y_test_pred,'Difference':y_test-y_test_pred})\n",
        "pred_df"
      ]
    }
  ],
  "metadata": {
    "colab": {
      "provenance": []
    },
    "kernelspec": {
      "display_name": "Python 3",
      "name": "python3"
    },
    "language_info": {
      "codemirror_mode": {
        "name": "ipython",
        "version": 3
      },
      "file_extension": ".py",
      "mimetype": "text/x-python",
      "name": "python",
      "nbconvert_exporter": "python",
      "pygments_lexer": "ipython3",
      "version": "3.8.20"
    }
  },
  "nbformat": 4,
  "nbformat_minor": 0
}
